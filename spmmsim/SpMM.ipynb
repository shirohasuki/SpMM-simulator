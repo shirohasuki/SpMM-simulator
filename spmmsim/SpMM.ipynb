{
 "cells": [
  {
   "cell_type": "code",
   "execution_count": null,
   "metadata": {},
   "outputs": [],
   "source": [
    "import spmmsim.model.hw_model.compute_model.systolic_array.interface as SystolicArray\n",
    "import spmmsim.model.hw_model.memory_model.cache.interface as Cache\n",
    "import spmmsim.model.hw_model.memory_model.scratchpad.interface as SPM\n",
    "\n",
    "import spmmsim.model.hw_model.system_model.mmu as mmu\n",
    "\n",
    "import numpy as np"
   ]
  },
  {
   "cell_type": "markdown",
   "metadata": {},
   "source": [
    "### 预处理环节"
   ]
  },
  {
   "cell_type": "code",
   "execution_count": null,
   "metadata": {},
   "outputs": [],
   "source": [
    "# 配置log文件\n",
    "log_file = \"./log.txt\"\n",
    "\n",
    "\n",
    "# 读matmul矩阵文件\n",
    "workload_file = \"./matmul.csv\"\n",
    "A = np.zeros((100, 100))\n",
    "B = np.zeros((100, 100))"
   ]
  },
  {
   "cell_type": "markdown",
   "metadata": {},
   "source": [
    "### 实例化model"
   ]
  },
  {
   "cell_type": "code",
   "execution_count": null,
   "metadata": {},
   "outputs": [],
   "source": [
    "# 配置计算单元\n",
    "systolic_array = SystolicArray()\n",
    "\n",
    "# 配置存储单元\n",
    "a_scratchpad = SPM()\n",
    "b_scratchpad = SPM()\n",
    "\n",
    "a_l2cache = Cache()\n",
    "b_l2cache = Cache()\n",
    "\n",
    "# dram = SPM()"
   ]
  },
  {
   "cell_type": "markdown",
   "metadata": {},
   "source": [
    "### matmul计算\n",
    "返回latency和访存序列\n",
    "\n",
    "访存序列格式:"
   ]
  },
  {
   "cell_type": "code",
   "execution_count": null,
   "metadata": {},
   "outputs": [],
   "source": [
    "# 1. systolic_array 计算得到 latency 和 memory access\n",
    "compute_latency, A_access, B_access = systolic_array.sparse_compute()\n",
    "Apaddr = mmu.addr_convert(start_addr=0, vaddr=A_access)\n",
    "Bpaddr = mmu.addr_convert(start_addr=10000, vaddr=B_access)\n",
    "A_l1_access = Apaddr\n",
    "B_l1_access = Bpaddr"
   ]
  },
  {
   "cell_type": "markdown",
   "metadata": {},
   "source": [
    "### 访存\n",
    "返回l1miss_latency和l2miss_latency和访存序列\n",
    "\n",
    "l1miss_A_access/l1miss_B_access访存序列格式:\n",
    "\n",
    "\n"
   ]
  },
  {
   "cell_type": "code",
   "execution_count": null,
   "metadata": {},
   "outputs": [],
   "source": [
    "# TODO: spm如何判断是否是我需要的数?\n",
    "# 2. systolic_array 的 memory access 访问 scratchpad 返回 hit latency 和 miss 序列\n",
    "l1miss_latency, l1miss_A_access = a_scratchpad.memory_access_eval(A_l1_access)\n",
    "l1miss_latency, l1miss_B_access = b_scratchpad.memory_access_eval(B_l1_access)\n",
    "Apaddr = mmu.addr_convert(start_addr=0, vaddr=A_access)\n",
    "Bpaddr = mmu.addr_convert(start_addr=10000, vaddr=B_access)\n",
    "A_l2cache_access = Apaddr\n",
    "B_l2cache_access = Bpaddr\n",
    "\n",
    "# 3. scratchpad miss 序列 访问 l2cache 返回 hit latency 和 miss 序列\n",
    "l2miss_latency, _ = a_l2cache.memory_access_eval(A_l2cache_access)\n",
    "l2miss_latency, _ = b_l2cache.memory_access_eval(B_l2cache_access)\n",
    "\n"
   ]
  },
  {
   "cell_type": "code",
   "execution_count": null,
   "metadata": {},
   "outputs": [],
   "source": [
    "# 4. 汇总 compute latency 和 memory latency\n"
   ]
  }
 ],
 "metadata": {
  "kernelspec": {
   "display_name": "llmcompass",
   "language": "python",
   "name": "python3"
  },
  "language_info": {
   "codemirror_mode": {
    "name": "ipython",
    "version": 3
   },
   "file_extension": ".py",
   "mimetype": "text/x-python",
   "name": "python",
   "nbconvert_exporter": "python",
   "pygments_lexer": "ipython3",
   "version": "3.9.19"
  }
 },
 "nbformat": 4,
 "nbformat_minor": 2
}
