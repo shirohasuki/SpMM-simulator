{
 "cells": [
  {
   "cell_type": "code",
   "execution_count": 7,
   "metadata": {},
   "outputs": [
    {
     "name": "stdout",
     "output_type": "stream",
     "text": [
      "第0轮生成的mem access[(0, 0), (0, 1), (1, 0), (2, 0), (2, 1), (2, 2)]\n",
      "第1轮生成的mem access[(1, 1), (1, 2), (2, 3), (3, 0), (3, 1)]\n",
      "第2轮生成的mem access[(0, 2), (0, 3), (1, 3), (3, 2), (3, 3)]\n"
     ]
    }
   ],
   "source": [
    "import sys\n",
    "sys.path.append(\"../\")\n",
    "# import math \n",
    "\n",
    "\n",
    "from SP.stride_prefetch import StridePrefetcher\n",
    "\n",
    "\n",
    "class NVR:\n",
    "    def __init__(self):\n",
    "        self.coeff = 4 # 假设每个元素 4 字节\n",
    "        self.stride_prefetcher = StridePrefetcher()  # 使用步长预取器\n",
    "    \n",
    "    # def stride_detector(self, curr_i):\n",
    "    #     \"\"\"步长检测器：使用传入的 StridePrefetcher 来预测下一个i值\"\"\"\n",
    "    #     predicted_i, stride = self.stride_prefetcher.execute_mvin(curr_i)\n",
    "    #     print(f\"当前 i={curr_i}, 预测的下一个为 i={predicted_i}, 步长: {stride}\")\n",
    "    #     return predicted_i\n",
    "\n",
    "    # def loop_bound_detector(self, bound):\n",
    "    #     \"\"\"边界检测器\"\"\"\n",
    "    #     # updated_bound = self.loop_bound_prefetcher.update(bound)\n",
    "    #     updated_bounds = self.loop_bound_group.update_group(bound)\n",
    "    #     return updated_bounds\n",
    "    \n",
    "    # def addr_generator(self, base_ptr, col_add):\n",
    "    #     \"\"\" 地址生成器 \"\"\"\n",
    "    #     return base_ptr + col_add\n",
    "\n",
    "    def prefetch(self, ss_end, ss_start):\n",
    "        \"\"\"bound和ptr_vector都是PE行数相同的数组, bound[i]表示PE第i行的循环边界\n",
    "        整合 stride_detector, loop_bound_detector, addr_generator\n",
    "        \"\"\"\n",
    "        \n",
    "        # predicted_bounds = self.loop_bound_detector(bound)\n",
    "\n",
    "        results = []\n",
    "        # 对每个PE内处理\n",
    "        for i in range(len(ss_start)):\n",
    "            for col in range(ss_end[i], ss_start[i]):\n",
    "                # for predicted_addr in col:\n",
    "                    # predicted_addr = self.addr_generator(ptr_vector[detector_id], col)\n",
    "                    results.append((i, col))\n",
    "                    # PE第几行的CSR第几个数\n",
    "                \n",
    "        return results\n",
    "\n",
    "\n",
    "if __name__ == \"__main__\":\n",
    "    ss_start = [\n",
    "        [0, 0, 0, 0],\n",
    "        [2, 1, 3, 0],\n",
    "        [2, 3, 4, 2]\n",
    "    ] \n",
    "\n",
    "    ss_end = [\n",
    "        [2, 1, 3, 0],\n",
    "        [2, 3, 4, 2],\n",
    "        [4, 4, 4, 4],\n",
    "    ]  \n",
    "\n",
    "    nvr = NVR()\n",
    "\n",
    "    for i in range(len(ss_start)):\n",
    "        predict_addr = nvr.prefetch(ss_start[i], ss_end[i])\n",
    "        print(f\"第{i}轮生成的mem access{predict_addr}\")\n",
    "    "
   ]
  }
 ],
 "metadata": {
  "language_info": {
   "name": "python"
  }
 },
 "nbformat": 4,
 "nbformat_minor": 2
}
