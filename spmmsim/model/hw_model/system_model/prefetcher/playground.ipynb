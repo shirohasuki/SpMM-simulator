{
 "cells": [
  {
   "cell_type": "code",
   "execution_count": 11,
   "metadata": {},
   "outputs": [
    {
     "name": "stdout",
     "output_type": "stream",
     "text": [
      "vaule of 10, is_tainted=True\n",
      "vaule of 0, is_tainted=False\n"
     ]
    }
   ],
   "source": [
    "import sys\n",
    "sys.path.append(\"../\")\n",
    "\n",
    "from regfile.register_file import RegisterFile \n",
    "from regfile.taint_tracker import TaintTracker \n",
    "\n",
    "\n",
    "\n",
    "if __name__ == \"__main__\":\n",
    "    register_file = RegisterFile(num_registers=32)\n",
    "    tt = TaintTracker(num_registers=32)\n",
    "\n",
    "    register_file.write(5, 10)\n",
    "    tt.mark_tainted(5)\n",
    "    reg5 = register_file.read(5)\n",
    "    print(f\"vaule of {reg5}, is_tainted={tt.is_tainted(5)}\")\n",
    "    print(f\"vaule of {register_file.read(2)}, is_tainted={tt.is_tainted(2)}\")"
   ]
  }
 ],
 "metadata": {
  "kernelspec": {
   "display_name": "llmcompass",
   "language": "python",
   "name": "python3"
  },
  "language_info": {
   "codemirror_mode": {
    "name": "ipython",
    "version": 3
   },
   "file_extension": ".py",
   "mimetype": "text/x-python",
   "name": "python",
   "nbconvert_exporter": "python",
   "pygments_lexer": "ipython3",
   "version": "3.9.19"
  }
 },
 "nbformat": 4,
 "nbformat_minor": 2
}
