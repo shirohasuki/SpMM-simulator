{
 "cells": [
  {
   "cell_type": "markdown",
   "metadata": {},
   "source": [
    "输入：单字形式的PE访存需求\n",
    "\n",
    "[block_row_id: 0, PE_id: 0], [vector_addr: False, vector_len: 0][ (0, 1, 1), (2, 5, 203), (2, 14, 204), (4, 6, 400), (4, 11, 401), (5, 8, 515), (8, 13, 831), (9, 4, 937), (9, 9, 938), (10, 10, 1066), (10, 12, 1067), (11, 13, 1177), (12, 0, 1282), (12, 3, 1283), (13, 5, 1393), (14, 2, 1491), (14, 3, 1492), (14, 5, 1493), (14, 7, 1494), (15, 7, 1602), (15, 15, 1603) ]\n",
    "\n",
    "\n",
    "输出：PE阵列每一行的访存需求范围，如果没有出现这行，则start=-1, end=-1\n",
    "[block_row_id: 0, PE_id: 0], [vector_addr: False, vector_len: 0][(第0行, start, end), ... ,(第n行, start, end)]"
   ]
  },
  {
   "cell_type": "code",
   "execution_count": 63,
   "metadata": {},
   "outputs": [],
   "source": [
    "import pandas as pd\n",
    "import numpy as np\n",
    "import re\n",
    "\n",
    "# 读取TXT文件\n",
    "txt_file = '../output/TEST1_A_access.txt'  \n",
    "with open(txt_file, 'r') as file:\n",
    "    lines = file.readlines()\n",
    "# print(data)\n",
    "\n",
    "\n",
    "# 定义一个函数来提取每行最后一个方括号内的内容，并将每个 (x, y, z) 作为一个元素提取\n",
    "def extract_last_brackets(text):\n",
    "    matches = re.findall(r'\\[(.*?)\\]', text)\n",
    "    if matches:\n",
    "        last_match = matches[-1]\n",
    "        tuples = re.findall(r'\\((\\d+),\\s*(\\d+),\\s*(\\d+)\\)', last_match)\n",
    "        return [tuple(map(int, t)) for t in tuples]\n",
    "    return []\n",
    "\n",
    "# 提取每行最后一个方括号内的内容\n",
    "all_extracted_data = []\n",
    "for line in lines:\n",
    "    extracted_data = extract_last_brackets(line)\n",
    "    if extracted_data:\n",
    "        all_extracted_data.append(extracted_data)\n",
    "\n",
    "# 打印提取后的数据\n",
    "# for i, data in enumerate(all_extracted_data):\n",
    "#     print(f\"PE {i}:{data}\")\n",
    "\n",
    "# with open('extracted_output.txt', 'w') as output_file:\n",
    "#     for i, data in enumerate(all_extracted_data):\n",
    "#         output_file.write(f\"PE {i}: {data}\\n\")\n",
    "\n",
    "################# 提取边界 ###################\n",
    "# PEid的个数\n",
    "tile_num = len(all_extracted_data)\n",
    "\n",
    "# # 创建一个 n x 16 的矩阵，矩阵中的每个元素是 (0, 0)\n",
    "interval_matrix = [[(0, 0) for _ in range(16)] for _ in range(tile_num)]\n",
    "\n",
    "# # 将其转换为 numpy 数组\n",
    "interval_matrix = np.array(interval_matrix)\n",
    "# interval_matrix\n",
    "for i, data_np in enumerate(all_extracted_data):\n",
    "    # print(data_np)\n",
    "    for (row, col, addr) in data_np:\n",
    "        # print(row, col, addr)\n",
    "        if interval_matrix[i][row][0] == 0:\n",
    "            interval_matrix[i][row][0] = addr\n",
    "            interval_matrix[i][row][1] = addr\n",
    "            continue\n",
    "        if addr > interval_matrix[i][row][1]:\n",
    "            interval_matrix[i][row][1] = addr\n",
    "            \n",
    "with open('../output/TEST1_A_access_interval.txt', mode='w') as file:\n",
    "    for i, row in enumerate(interval_matrix):\n",
    "        formatted_row = [f\"({x[0]}, {x[1]})\" for x in row]\n",
    "        row_str = ', '.join(formatted_row)\n",
    "        file.write(f\"PE {i}, [{row_str}]\\n\")"
   ]
  }
 ],
 "metadata": {
  "kernelspec": {
   "display_name": "llmcompass",
   "language": "python",
   "name": "python3"
  },
  "language_info": {
   "codemirror_mode": {
    "name": "ipython",
    "version": 3
   },
   "file_extension": ".py",
   "mimetype": "text/x-python",
   "name": "python",
   "nbconvert_exporter": "python",
   "pygments_lexer": "ipython3",
   "version": "3.9.19"
  }
 },
 "nbformat": 4,
 "nbformat_minor": 2
}
