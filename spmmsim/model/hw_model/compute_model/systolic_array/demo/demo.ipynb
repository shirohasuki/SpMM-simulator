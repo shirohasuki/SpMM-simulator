{
 "cells": [
  {
   "cell_type": "code",
   "execution_count": 5,
   "metadata": {},
   "outputs": [
    {
     "ename": "ImportError",
     "evalue": "attempted relative import with no known parent package",
     "output_type": "error",
     "traceback": [
      "\u001b[0;31m---------------------------------------------------------------------------\u001b[0m",
      "\u001b[0;31mImportError\u001b[0m                               Traceback (most recent call last)",
      "Cell \u001b[0;32mIn[5], line 9\u001b[0m\n\u001b[1;32m      6\u001b[0m \u001b[38;5;28;01mfrom\u001b[39;00m \u001b[38;5;21;01mSparseCompution\u001b[39;00m \u001b[38;5;28;01mimport\u001b[39;00m SparseCompution\n\u001b[1;32m      7\u001b[0m \u001b[38;5;66;03m# from spmmsim.model.hw_model.compute_model.systolic_array.utils.SparseMatirx import SparseMatrix\u001b[39;00m\n\u001b[1;32m      8\u001b[0m \u001b[38;5;66;03m# from spmmsim.model.hw_model.compute_model.systolic_array.utils.IndexBuffer import IndexBuffer\u001b[39;00m\n\u001b[0;32m----> 9\u001b[0m \u001b[38;5;28;01mfrom\u001b[39;00m \u001b[38;5;21;01m.\u001b[39;00m\u001b[38;5;21;01m.\u001b[39;00m\u001b[38;5;21;01mutils\u001b[39;00m\u001b[38;5;21;01m.\u001b[39;00m\u001b[38;5;21;01mSparseMatirx\u001b[39;00m \u001b[38;5;28;01mimport\u001b[39;00m SparseMatrix\n\u001b[1;32m     10\u001b[0m \u001b[38;5;28;01mfrom\u001b[39;00m \u001b[38;5;21;01m.\u001b[39;00m\u001b[38;5;21;01m.\u001b[39;00m\u001b[38;5;21;01mutils\u001b[39;00m\u001b[38;5;21;01m.\u001b[39;00m\u001b[38;5;21;01mIndexBuffer\u001b[39;00m  \u001b[38;5;28;01mimport\u001b[39;00m IndexBuffer\n\u001b[1;32m     13\u001b[0m A \u001b[38;5;241m=\u001b[39m SparseMatrix(\u001b[38;5;241m2048\u001b[39m,\u001b[38;5;241m2048\u001b[39m,\u001b[38;5;241m1\u001b[39m\u001b[38;5;241m/\u001b[39m\u001b[38;5;241m16\u001b[39m)\n",
      "\u001b[0;31mImportError\u001b[0m: attempted relative import with no known parent package"
     ]
    }
   ],
   "source": [
    "# import sys\n",
    "# sys.path.append(\"../\")\n",
    "\n",
    "import numpy as np\n",
    "from SystolicArray import SystolicArray\n",
    "from SparseCompution import SparseCompution\n",
    "# from spmmsim.model.hw_model.compute_model.systolic_array.utils.SparseMatirx import SparseMatrix\n",
    "# from spmmsim.model.hw_model.compute_model.systolic_array.utils.IndexBuffer import IndexBuffer\n",
    "from ..utils.SparseMatirx import SparseMatrix\n",
    "from ..utils.IndexBuffer  import IndexBuffer\n",
    "\n",
    "\n",
    "A = SparseMatrix(2048,2048,1/16)\n",
    "B = np.random.randint(0,10,size=(2048,128))"
   ]
  },
  {
   "cell_type": "code",
   "execution_count": 2,
   "metadata": {},
   "outputs": [],
   "source": [
    "def evaluate(systolic_num,matrix_A,matrix_B,mode):\n",
    "    buffer_width = [2,4,8,16,32]\n",
    "    cycles = []\n",
    "    for i in buffer_width:\n",
    "        # if i > systolic_num:\n",
    "        #     break\n",
    "        # else:\n",
    "            sparse_compute = SparseCompution(systolic_num,i,systolic_num)\n",
    "            sparse_compute.systolic_array.reset()\n",
    "            c = sparse_compute.compute(matrix_A,matrix_B,mode)\n",
    "            cycles.append(sparse_compute.systolic_array.cycle)\n",
    "    for i in range(5):\n",
    "        # if buffer_width[i] > systolic_num:\n",
    "        #     break\n",
    "        # else:\n",
    "            print(f\"buffer宽度为{buffer_width[i]}时,cycle为{cycles[i]}\")\n",
    "    return cycles\n"
   ]
  },
  {
   "cell_type": "code",
   "execution_count": 3,
   "metadata": {},
   "outputs": [],
   "source": [
    "def averge_result(systolic_array_num,mode):\n",
    "    cycles = []\n",
    "    print(f\"脉动阵列大小为{systolic_array_num}x{systolic_array_num}\")\n",
    "    dense_compute = SystolicArray(systolic_array_num,systolic_array_num)\n",
    "    dense_compute.reset()\n",
    "    A = SparseMatrix(2048,2048,1/16)\n",
    "    B = np.random.randint(0,10,size=(2048,128))\n",
    "    c = dense_compute.compute(A.matrix,B)\n",
    "    print(\"密集矩阵计算cycle:\",dense_compute.cycle)\n",
    "    # for i in range():\n",
    "    #     print(f\"第{i}组矩阵乘法:\")\n",
    "    #     A = SparseMatrix(2048,2048,1/16)\n",
    "    #     B = np.random.randint(0,10,size=(2048,128))\n",
    "    #     cycle = evaluate(systolic_array_num,A,B,mode)\n",
    "    #     cycles.append(cycle)\n",
    "\n",
    "    # print(f\"第{i}组矩阵乘法:\")\n",
    "    A = SparseMatrix(2048,2048,1/16)\n",
    "    B = np.random.randint(0,10,size=(2048,128))\n",
    "    cycle = evaluate(systolic_array_num,A,B,mode)\n",
    "    print(cycle)\n",
    "    # cycles.append(cycle)\n",
    "\n",
    "    # cycles = np.array(cycles)\n",
    "    # print(\"10次总体情况:\")\n",
    "    # print(cycles)\n",
    "    # print(\"平均数为:\")\n",
    "    # print(np.mean(cycles,axis=0))"
   ]
  },
  {
   "cell_type": "code",
   "execution_count": 4,
   "metadata": {},
   "outputs": [
    {
     "name": "stdout",
     "output_type": "stream",
     "text": [
      "脉动阵列大小为4x4\n"
     ]
    },
    {
     "ename": "KeyboardInterrupt",
     "evalue": "",
     "output_type": "error",
     "traceback": [
      "\u001b[0;31m---------------------------------------------------------------------------\u001b[0m",
      "\u001b[0;31mKeyboardInterrupt\u001b[0m                         Traceback (most recent call last)",
      "Cell \u001b[0;32mIn[4], line 1\u001b[0m\n\u001b[0;32m----> 1\u001b[0m \u001b[43maverge_result\u001b[49m\u001b[43m(\u001b[49m\u001b[38;5;241;43m4\u001b[39;49m\u001b[43m,\u001b[49m\u001b[38;5;241;43m0\u001b[39;49m\u001b[43m)\u001b[49m\n\u001b[1;32m      2\u001b[0m averge_result(\u001b[38;5;241m8\u001b[39m,\u001b[38;5;241m0\u001b[39m)\n\u001b[1;32m      3\u001b[0m averge_result(\u001b[38;5;241m16\u001b[39m,\u001b[38;5;241m0\u001b[39m)\n",
      "Cell \u001b[0;32mIn[3], line 8\u001b[0m, in \u001b[0;36maverge_result\u001b[0;34m(systolic_array_num, mode)\u001b[0m\n\u001b[1;32m      6\u001b[0m A \u001b[38;5;241m=\u001b[39m SparseMatrix(\u001b[38;5;241m2048\u001b[39m,\u001b[38;5;241m2048\u001b[39m,\u001b[38;5;241m1\u001b[39m\u001b[38;5;241m/\u001b[39m\u001b[38;5;241m16\u001b[39m)\n\u001b[1;32m      7\u001b[0m B \u001b[38;5;241m=\u001b[39m np\u001b[38;5;241m.\u001b[39mrandom\u001b[38;5;241m.\u001b[39mrandint(\u001b[38;5;241m0\u001b[39m,\u001b[38;5;241m10\u001b[39m,size\u001b[38;5;241m=\u001b[39m(\u001b[38;5;241m2048\u001b[39m,\u001b[38;5;241m128\u001b[39m))\n\u001b[0;32m----> 8\u001b[0m c \u001b[38;5;241m=\u001b[39m \u001b[43mdense_compute\u001b[49m\u001b[38;5;241;43m.\u001b[39;49m\u001b[43mcompute\u001b[49m\u001b[43m(\u001b[49m\u001b[43mA\u001b[49m\u001b[38;5;241;43m.\u001b[39;49m\u001b[43mmatrix\u001b[49m\u001b[43m,\u001b[49m\u001b[43mB\u001b[49m\u001b[43m)\u001b[49m\n\u001b[1;32m      9\u001b[0m \u001b[38;5;28mprint\u001b[39m(\u001b[38;5;124m\"\u001b[39m\u001b[38;5;124m密集矩阵计算cycle:\u001b[39m\u001b[38;5;124m\"\u001b[39m,dense_compute\u001b[38;5;241m.\u001b[39mcycle)\n\u001b[1;32m     10\u001b[0m \u001b[38;5;66;03m# for i in range():\u001b[39;00m\n\u001b[1;32m     11\u001b[0m \u001b[38;5;66;03m#     print(f\"第{i}组矩阵乘法:\")\u001b[39;00m\n\u001b[1;32m     12\u001b[0m \u001b[38;5;66;03m#     A = SparseMatrix(2048,2048,1/16)\u001b[39;00m\n\u001b[0;32m   (...)\u001b[0m\n\u001b[1;32m     16\u001b[0m \n\u001b[1;32m     17\u001b[0m \u001b[38;5;66;03m# print(f\"第{i}组矩阵乘法:\")\u001b[39;00m\n",
      "File \u001b[0;32m~/Code/Backend/SpMM-simulator/simulator/model/hw_model/compute_model/systolic_array/SystolicArray.py:119\u001b[0m, in \u001b[0;36mSystolicArray.compute\u001b[0;34m(self, A, B, enable)\u001b[0m\n\u001b[1;32m    116\u001b[0m \u001b[38;5;28;01mfor\u001b[39;00m j \u001b[38;5;129;01min\u001b[39;00m \u001b[38;5;28mrange\u001b[39m(col_cnt):\n\u001b[1;32m    117\u001b[0m     \u001b[38;5;66;03m# 取A的第row*i行到第row*i+row行, 第col*j列到第col*j+col列\u001b[39;00m\n\u001b[1;32m    118\u001b[0m     temp_a \u001b[38;5;241m=\u001b[39m \u001b[38;5;28mself\u001b[39m\u001b[38;5;241m.\u001b[39mA[\u001b[38;5;28mself\u001b[39m\u001b[38;5;241m.\u001b[39mrow\u001b[38;5;241m*\u001b[39mi:\u001b[38;5;28mself\u001b[39m\u001b[38;5;241m.\u001b[39mrow\u001b[38;5;241m*\u001b[39mi\u001b[38;5;241m+\u001b[39m\u001b[38;5;28mself\u001b[39m\u001b[38;5;241m.\u001b[39mrow, \u001b[38;5;28mself\u001b[39m\u001b[38;5;241m.\u001b[39mcol\u001b[38;5;241m*\u001b[39mj:\u001b[38;5;28mself\u001b[39m\u001b[38;5;241m.\u001b[39mcol\u001b[38;5;241m*\u001b[39mj\u001b[38;5;241m+\u001b[39m\u001b[38;5;28mself\u001b[39m\u001b[38;5;241m.\u001b[39mcol]\n\u001b[0;32m--> 119\u001b[0m     \u001b[38;5;28;43mself\u001b[39;49m\u001b[38;5;241;43m.\u001b[39;49m\u001b[43mpreload\u001b[49m\u001b[43m(\u001b[49m\u001b[43mtemp_a\u001b[49m\u001b[43m)\u001b[49m\n\u001b[1;32m    120\u001b[0m     \u001b[38;5;66;03m# 取B的第col*j列到第col*j+col列\u001b[39;00m\n\u001b[1;32m    121\u001b[0m     temp_b \u001b[38;5;241m=\u001b[39m \u001b[38;5;28mself\u001b[39m\u001b[38;5;241m.\u001b[39mB[\u001b[38;5;28mself\u001b[39m\u001b[38;5;241m.\u001b[39mcol\u001b[38;5;241m*\u001b[39mj:\u001b[38;5;28mself\u001b[39m\u001b[38;5;241m.\u001b[39mcol\u001b[38;5;241m*\u001b[39mj\u001b[38;5;241m+\u001b[39m\u001b[38;5;28mself\u001b[39m\u001b[38;5;241m.\u001b[39mcol,:]\n",
      "File \u001b[0;32m~/Code/Backend/SpMM-simulator/simulator/model/hw_model/compute_model/systolic_array/SystolicArray.py:34\u001b[0m, in \u001b[0;36mSystolicArray.preload\u001b[0;34m(self, input_a_array)\u001b[0m\n\u001b[1;32m     32\u001b[0m \u001b[38;5;28;01mfor\u001b[39;00m i \u001b[38;5;129;01min\u001b[39;00m \u001b[38;5;28mrange\u001b[39m(\u001b[38;5;28mself\u001b[39m\u001b[38;5;241m.\u001b[39mrow):\n\u001b[1;32m     33\u001b[0m     \u001b[38;5;28;01mfor\u001b[39;00m j \u001b[38;5;129;01min\u001b[39;00m \u001b[38;5;28mrange\u001b[39m(\u001b[38;5;28mself\u001b[39m\u001b[38;5;241m.\u001b[39mcol):\n\u001b[0;32m---> 34\u001b[0m         \u001b[38;5;28mself\u001b[39m\u001b[38;5;241m.\u001b[39mpe_array[i][j]\u001b[38;5;241m.\u001b[39ma \u001b[38;5;241m=\u001b[39m \u001b[43minput_a_array\u001b[49m\u001b[43m[\u001b[49m\u001b[43mi\u001b[49m\u001b[43m]\u001b[49m[j]\n",
      "\u001b[0;31mKeyboardInterrupt\u001b[0m: "
     ]
    }
   ],
   "source": [
    "averge_result(4,0)\n",
    "averge_result(8,0)\n",
    "averge_result(16,0)\n",
    "averge_result(32,0)"
   ]
  },
  {
   "cell_type": "code",
   "execution_count": 7,
   "metadata": {},
   "outputs": [
    {
     "name": "stdout",
     "output_type": "stream",
     "text": [
      "脉动阵列大小为4x4\n",
      "密集矩阵计算cycle: 36438016\n",
      "buffer宽度为2时,cycle为7736879\n",
      "buffer宽度为4时,cycle为7573554\n",
      "buffer宽度为8时,cycle为7548673\n",
      "buffer宽度为16时,cycle为7505305\n",
      "buffer宽度为32时,cycle为7415789\n",
      "[7736879, 7573554, 7548673, 7505305, 7415789]\n",
      "脉动阵列大小为8x8\n",
      "密集矩阵计算cycle: 9895936\n",
      "buffer宽度为2时,cycle为4237362\n",
      "buffer宽度为4时,cycle为4075188\n",
      "buffer宽度为8时,cycle为4029435\n",
      "buffer宽度为16时,cycle为3975981\n",
      "buffer宽度为32时,cycle为3871338\n",
      "[4237362, 4075188, 4029435, 3975981, 3871338]\n",
      "脉动阵列大小为16x16\n",
      "密集矩阵计算cycle: 2867200\n"
     ]
    },
    {
     "ename": "KeyboardInterrupt",
     "evalue": "",
     "output_type": "error",
     "traceback": [
      "\u001b[1;31m---------------------------------------------------------------------------\u001b[0m",
      "\u001b[1;31mKeyboardInterrupt\u001b[0m                         Traceback (most recent call last)",
      "\u001b[1;32m~\\AppData\\Local\\Temp\\ipykernel_14224\\1733569631.py\u001b[0m in \u001b[0;36m<module>\u001b[1;34m\u001b[0m\n\u001b[0;32m      1\u001b[0m \u001b[0maverge_result\u001b[0m\u001b[1;33m(\u001b[0m\u001b[1;36m4\u001b[0m\u001b[1;33m,\u001b[0m\u001b[1;36m1\u001b[0m\u001b[1;33m)\u001b[0m\u001b[1;33m\u001b[0m\u001b[1;33m\u001b[0m\u001b[0m\n\u001b[0;32m      2\u001b[0m \u001b[0maverge_result\u001b[0m\u001b[1;33m(\u001b[0m\u001b[1;36m8\u001b[0m\u001b[1;33m,\u001b[0m\u001b[1;36m1\u001b[0m\u001b[1;33m)\u001b[0m\u001b[1;33m\u001b[0m\u001b[1;33m\u001b[0m\u001b[0m\n\u001b[1;32m----> 3\u001b[1;33m \u001b[0maverge_result\u001b[0m\u001b[1;33m(\u001b[0m\u001b[1;36m16\u001b[0m\u001b[1;33m,\u001b[0m\u001b[1;36m1\u001b[0m\u001b[1;33m)\u001b[0m\u001b[1;33m\u001b[0m\u001b[1;33m\u001b[0m\u001b[0m\n\u001b[0m\u001b[0;32m      4\u001b[0m \u001b[0maverge_result\u001b[0m\u001b[1;33m(\u001b[0m\u001b[1;36m32\u001b[0m\u001b[1;33m,\u001b[0m\u001b[1;36m1\u001b[0m\u001b[1;33m)\u001b[0m\u001b[1;33m\u001b[0m\u001b[1;33m\u001b[0m\u001b[0m\n",
      "\u001b[1;32m~\\AppData\\Local\\Temp\\ipykernel_14224\\1242680809.py\u001b[0m in \u001b[0;36maverge_result\u001b[1;34m(systolic_array_num, mode)\u001b[0m\n\u001b[0;32m     18\u001b[0m     \u001b[0mA\u001b[0m \u001b[1;33m=\u001b[0m \u001b[0mSparseMatrix\u001b[0m\u001b[1;33m(\u001b[0m\u001b[1;36m2048\u001b[0m\u001b[1;33m,\u001b[0m\u001b[1;36m2048\u001b[0m\u001b[1;33m,\u001b[0m\u001b[1;36m1\u001b[0m\u001b[1;33m/\u001b[0m\u001b[1;36m16\u001b[0m\u001b[1;33m)\u001b[0m\u001b[1;33m\u001b[0m\u001b[1;33m\u001b[0m\u001b[0m\n\u001b[0;32m     19\u001b[0m     \u001b[0mB\u001b[0m \u001b[1;33m=\u001b[0m \u001b[0mnp\u001b[0m\u001b[1;33m.\u001b[0m\u001b[0mrandom\u001b[0m\u001b[1;33m.\u001b[0m\u001b[0mrandint\u001b[0m\u001b[1;33m(\u001b[0m\u001b[1;36m0\u001b[0m\u001b[1;33m,\u001b[0m\u001b[1;36m10\u001b[0m\u001b[1;33m,\u001b[0m\u001b[0msize\u001b[0m\u001b[1;33m=\u001b[0m\u001b[1;33m(\u001b[0m\u001b[1;36m2048\u001b[0m\u001b[1;33m,\u001b[0m\u001b[1;36m128\u001b[0m\u001b[1;33m)\u001b[0m\u001b[1;33m)\u001b[0m\u001b[1;33m\u001b[0m\u001b[1;33m\u001b[0m\u001b[0m\n\u001b[1;32m---> 20\u001b[1;33m     \u001b[0mcycle\u001b[0m \u001b[1;33m=\u001b[0m \u001b[0mevaluate\u001b[0m\u001b[1;33m(\u001b[0m\u001b[0msystolic_array_num\u001b[0m\u001b[1;33m,\u001b[0m\u001b[0mA\u001b[0m\u001b[1;33m,\u001b[0m\u001b[0mB\u001b[0m\u001b[1;33m,\u001b[0m\u001b[0mmode\u001b[0m\u001b[1;33m)\u001b[0m\u001b[1;33m\u001b[0m\u001b[1;33m\u001b[0m\u001b[0m\n\u001b[0m\u001b[0;32m     21\u001b[0m     \u001b[0mprint\u001b[0m\u001b[1;33m(\u001b[0m\u001b[0mcycle\u001b[0m\u001b[1;33m)\u001b[0m\u001b[1;33m\u001b[0m\u001b[1;33m\u001b[0m\u001b[0m\n\u001b[0;32m     22\u001b[0m     \u001b[1;31m# cycles.append(cycle)\u001b[0m\u001b[1;33m\u001b[0m\u001b[1;33m\u001b[0m\u001b[1;33m\u001b[0m\u001b[0m\n",
      "\u001b[1;32m~\\AppData\\Local\\Temp\\ipykernel_14224\\4112196095.py\u001b[0m in \u001b[0;36mevaluate\u001b[1;34m(systolic_num, matrix_A, matrix_B, mode)\u001b[0m\n\u001b[0;32m      8\u001b[0m             \u001b[0msparse_compute\u001b[0m \u001b[1;33m=\u001b[0m \u001b[0mSparseCompution\u001b[0m\u001b[1;33m(\u001b[0m\u001b[0msystolic_num\u001b[0m\u001b[1;33m,\u001b[0m\u001b[0mi\u001b[0m\u001b[1;33m,\u001b[0m\u001b[0msystolic_num\u001b[0m\u001b[1;33m)\u001b[0m\u001b[1;33m\u001b[0m\u001b[1;33m\u001b[0m\u001b[0m\n\u001b[0;32m      9\u001b[0m             \u001b[0msparse_compute\u001b[0m\u001b[1;33m.\u001b[0m\u001b[0msystolic_array\u001b[0m\u001b[1;33m.\u001b[0m\u001b[0mreset\u001b[0m\u001b[1;33m(\u001b[0m\u001b[1;33m)\u001b[0m\u001b[1;33m\u001b[0m\u001b[1;33m\u001b[0m\u001b[0m\n\u001b[1;32m---> 10\u001b[1;33m             \u001b[0mc\u001b[0m \u001b[1;33m=\u001b[0m \u001b[0msparse_compute\u001b[0m\u001b[1;33m.\u001b[0m\u001b[0mcompute\u001b[0m\u001b[1;33m(\u001b[0m\u001b[0mmatrix_A\u001b[0m\u001b[1;33m,\u001b[0m\u001b[0mmatrix_B\u001b[0m\u001b[1;33m,\u001b[0m\u001b[0mmode\u001b[0m\u001b[1;33m)\u001b[0m\u001b[1;33m\u001b[0m\u001b[1;33m\u001b[0m\u001b[0m\n\u001b[0m\u001b[0;32m     11\u001b[0m             \u001b[0mcycles\u001b[0m\u001b[1;33m.\u001b[0m\u001b[0mappend\u001b[0m\u001b[1;33m(\u001b[0m\u001b[0msparse_compute\u001b[0m\u001b[1;33m.\u001b[0m\u001b[0msystolic_array\u001b[0m\u001b[1;33m.\u001b[0m\u001b[0mcycle\u001b[0m\u001b[1;33m)\u001b[0m\u001b[1;33m\u001b[0m\u001b[1;33m\u001b[0m\u001b[0m\n\u001b[0;32m     12\u001b[0m     \u001b[1;32mfor\u001b[0m \u001b[0mi\u001b[0m \u001b[1;32min\u001b[0m \u001b[0mrange\u001b[0m\u001b[1;33m(\u001b[0m\u001b[1;36m5\u001b[0m\u001b[1;33m)\u001b[0m\u001b[1;33m:\u001b[0m\u001b[1;33m\u001b[0m\u001b[1;33m\u001b[0m\u001b[0m\n",
      "\u001b[1;32md:\\paper\\稀疏\\py\\SparseCompution.py\u001b[0m in \u001b[0;36mcompute\u001b[1;34m(self, A, B, enable, mode)\u001b[0m\n\u001b[0;32m     45\u001b[0m                 \u001b[0mtemp_B\u001b[0m \u001b[1;33m=\u001b[0m \u001b[0mself\u001b[0m\u001b[1;33m.\u001b[0m\u001b[0mB\u001b[0m\u001b[1;33m[\u001b[0m\u001b[0mindex_B\u001b[0m\u001b[1;33m,\u001b[0m\u001b[1;33m:\u001b[0m\u001b[1;33m]\u001b[0m\u001b[1;33m\u001b[0m\u001b[1;33m\u001b[0m\u001b[0m\n\u001b[0;32m     46\u001b[0m \u001b[1;33m\u001b[0m\u001b[0m\n\u001b[1;32m---> 47\u001b[1;33m                 \u001b[0mtemp_C_\u001b[0m \u001b[1;33m=\u001b[0m \u001b[0mself\u001b[0m\u001b[1;33m.\u001b[0m\u001b[0msystolic_array\u001b[0m\u001b[1;33m.\u001b[0m\u001b[0mcompute\u001b[0m\u001b[1;33m(\u001b[0m\u001b[0mtemp_A\u001b[0m\u001b[1;33m,\u001b[0m\u001b[0mtemp_B\u001b[0m\u001b[1;33m,\u001b[0m\u001b[0menable\u001b[0m\u001b[1;33m)\u001b[0m\u001b[1;33m\u001b[0m\u001b[1;33m\u001b[0m\u001b[0m\n\u001b[0m\u001b[0;32m     48\u001b[0m                 \u001b[0mtemp_C\u001b[0m \u001b[1;33m=\u001b[0m \u001b[0mtemp_C\u001b[0m \u001b[1;33m+\u001b[0m \u001b[0mtemp_C_\u001b[0m\u001b[1;33m\u001b[0m\u001b[1;33m\u001b[0m\u001b[0m\n\u001b[0;32m     49\u001b[0m \u001b[1;33m\u001b[0m\u001b[0m\n",
      "\u001b[1;32md:\\paper\\稀疏\\py\\SystolicArray.py\u001b[0m in \u001b[0;36mcompute\u001b[1;34m(self, A, B, enable)\u001b[0m\n\u001b[0;32m    131\u001b[0m                 \u001b[1;32mif\u001b[0m \u001b[0menable\u001b[0m\u001b[1;33m:\u001b[0m\u001b[1;33m\u001b[0m\u001b[1;33m\u001b[0m\u001b[0m\n\u001b[0;32m    132\u001b[0m             \u001b[1;31m# print(np.array(temp_c_))\u001b[0m\u001b[1;33m\u001b[0m\u001b[1;33m\u001b[0m\u001b[1;33m\u001b[0m\u001b[0m\n\u001b[1;32m--> 133\u001b[1;33m                     \u001b[0mtemp_c_\u001b[0m \u001b[1;33m=\u001b[0m \u001b[0mself\u001b[0m\u001b[1;33m.\u001b[0m\u001b[0minverse_transform_matrix\u001b[0m\u001b[1;33m(\u001b[0m\u001b[0mnp\u001b[0m\u001b[1;33m.\u001b[0m\u001b[0marray\u001b[0m\u001b[1;33m(\u001b[0m\u001b[0mtemp_c_\u001b[0m\u001b[1;33m)\u001b[0m\u001b[1;33m)\u001b[0m\u001b[1;33m\u001b[0m\u001b[1;33m\u001b[0m\u001b[0m\n\u001b[0m\u001b[0;32m    134\u001b[0m                 \u001b[1;31m# print(temp_c_)\u001b[0m\u001b[1;33m\u001b[0m\u001b[1;33m\u001b[0m\u001b[1;33m\u001b[0m\u001b[0m\n\u001b[0;32m    135\u001b[0m                 \u001b[1;31m# import pdb;pdb.set_trace()\u001b[0m\u001b[1;33m\u001b[0m\u001b[1;33m\u001b[0m\u001b[1;33m\u001b[0m\u001b[0m\n",
      "\u001b[1;31mKeyboardInterrupt\u001b[0m: "
     ]
    }
   ],
   "source": [
    "averge_result(4,1)\n",
    "averge_result(8,1)\n",
    "averge_result(16,1)\n",
    "averge_result(32,1)"
   ]
  },
  {
   "cell_type": "code",
   "execution_count": null,
   "metadata": {},
   "outputs": [],
   "source": []
  }
 ],
 "metadata": {
  "kernelspec": {
   "display_name": "work",
   "language": "python",
   "name": "python3"
  },
  "language_info": {
   "codemirror_mode": {
    "name": "ipython",
    "version": 3
   },
   "file_extension": ".py",
   "mimetype": "text/x-python",
   "name": "python",
   "nbconvert_exporter": "python",
   "pygments_lexer": "ipython3",
   "version": "3.9.19"
  }
 },
 "nbformat": 4,
 "nbformat_minor": 2
}
