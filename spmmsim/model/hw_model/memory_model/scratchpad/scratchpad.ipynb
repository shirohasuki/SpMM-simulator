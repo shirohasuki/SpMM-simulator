{
 "cells": [
  {
   "cell_type": "code",
   "execution_count": null,
   "metadata": {},
   "outputs": [],
   "source": [
    "class Scratchpad:\n",
    "    def __init__(self,bank_num,bank_row,dim,data_size):\n",
    "        self.bank_num = bank_num\n",
    "        self.bank_row =bank_row \n",
    "        self.dim=dim\n",
    "        self.data_size = data_size\n",
    "        self.backing_mem = None\n",
    "        \n",
    "    def read(self,addr):\n",
    "        req_num = int(self.dim*(self.data_size/8)/self.backing_mem.line_size)#需要去读的cacheline的数目\n",
    "        data_num = int(self.backing_mem.line_size/self.backing_mem.data_size)\n",
    "\n",
    "        rdata = [0 for _ in range(req_num*(data_num))]\n",
    "        for i in range(req_num):\n",
    "            data = self.backing_mem.read_line(addr)\n",
    "            for j  in range(data_num):\n",
    "                rdata[j+i*data_num] = data[j]\n",
    "        return rdata\n",
    "\n",
    "    def write(self,addr,data):\n",
    "        req_num = int(self.dim*(self.data_size/8)/self.backing_mem.line_size)#需要去写的cacheline的数目\n",
    "        data_num = int(self.backing_mem.line_size/self.backing_mem.data_size)\n",
    "\n",
    "        wdata = [[0 for _ in range(data_num)] for _ in range(req_num)]\n",
    "\n",
    "\n",
    "        for i in range(req_num):\n",
    "            for j  in range(data_num):\n",
    "                wdata[i][j] = data[j+i*data_num]\n",
    "        for i in range(req_num):\n",
    "            self.backing_mem.write_line(wdata[i],addr)"
   ]
  }
 ],
 "metadata": {
  "language_info": {
   "name": "python"
  }
 },
 "nbformat": 4,
 "nbformat_minor": 2
}
