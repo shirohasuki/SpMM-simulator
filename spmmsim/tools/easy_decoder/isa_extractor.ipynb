{
 "cells": [
  {
   "cell_type": "code",
   "execution_count": 11,
   "metadata": {},
   "outputs": [
    {
     "name": "stdout",
     "output_type": "stream",
     "text": [
      "Instruction: 06f4b07b\n",
      "rd, rs1, rs2 [x0, s1, a5]\n",
      "\n",
      "Instruction: 04f4307b\n",
      "rd, rs1, rs2 [x0, s0, a5]\n",
      "\n",
      "Instruction: 00e7b07b\n",
      "rd, rs1, rs2 [x0, a5, a4]\n",
      "\n"
     ]
    }
   ],
   "source": [
    "REGISTER_NAMES = {\n",
    "    0: \"x0\", 1: \"ra\", 2: \"sp\", 3: \"gp\", 4: \"tp\", 5: \"t0\", 6: \"t1\", 7: \"t2\",\n",
    "    8: \"s0\", 9: \"s1\", 10: \"a0\", 11: \"a1\", 12: \"a2\", 13: \"a3\", 14: \"a4\", 15: \"a5\",\n",
    "    16: \"a6\", 17: \"a7\", 18: \"s2\", 19: \"s3\", 20: \"s4\", 21: \"s5\", 22: \"s6\", 23: \"s7\",\n",
    "    24: \"s8\", 25: \"s9\", 26: \"s10\", 27: \"s11\", 28: \"t3\", 29: \"t4\", 30: \"t5\", 31: \"t6\"\n",
    "}\n",
    "\n",
    "# 只是R-type的\n",
    "def extract_riscv_registers(instructions):\n",
    "    for instruction in instructions:\n",
    "        # # 将输入的十六进制字符串转换为二进制\n",
    "        binary_instruction = format(int(instruction, 16), '032b')\n",
    "\n",
    "        # 提取各个字段的二进制位\n",
    "        rs2_bin = binary_instruction[7:12]    # rs2字段，位于[11:7]\n",
    "        # print(rs2_bin)\n",
    "        rs1_bin = binary_instruction[12:17]  # rs1字段，位于[16:12]\n",
    "        # print(rs1_bin)\n",
    "        rd_bin = binary_instruction[20:25]  # rd字段，位于[24:20]\n",
    "        # print(rd_bin)\n",
    "\n",
    "        # 将二进制字段转换为十进制（寄存器编号）\n",
    "        rd = int(rd_bin, 2)\n",
    "        # print(rd)\n",
    "        rs1 = int(rs1_bin, 2)\n",
    "        rs2 = int(rs2_bin, 2)\n",
    "\n",
    "        # 获取寄存器的名字\n",
    "        rd_name = REGISTER_NAMES.get(rd, f\"x{rd}\")\n",
    "        rs1_name = REGISTER_NAMES.get(rs1, f\"x{rs1}\")\n",
    "        rs2_name = REGISTER_NAMES.get(rs2, f\"x{rs2}\")\n",
    "\n",
    "        print(f\"Instruction: {instruction}\")\n",
    "        # print(f\"rd: {rd_name}, rs1: {rs1_name}, rs2: {rs2_name}\\n\")\n",
    "        print(f\"rd, rs1, rs2 [{rd_name}, {rs1_name}, {rs2_name}]\\n\")\n",
    "        \n",
    "\n",
    "\n",
    "if __name__ == \"__main__\":\n",
    "    instructions = [\n",
    "        '06f4b07b',  \n",
    "        '04f4307b',  \n",
    "        '00e7b07b'   \n",
    "    ]\n",
    "    \n",
    "    extract_riscv_registers(instructions)"
   ]
  }
 ],
 "metadata": {
  "kernelspec": {
   "display_name": "llmcompass",
   "language": "python",
   "name": "python3"
  },
  "language_info": {
   "codemirror_mode": {
    "name": "ipython",
    "version": 3
   },
   "file_extension": ".py",
   "mimetype": "text/x-python",
   "name": "python",
   "nbconvert_exporter": "python",
   "pygments_lexer": "ipython3",
   "version": "3.9.19"
  }
 },
 "nbformat": 4,
 "nbformat_minor": 2
}
