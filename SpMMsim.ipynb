{
 "cells": [
  {
   "cell_type": "code",
   "execution_count": 17,
   "metadata": {},
   "outputs": [],
   "source": [
    "import os\n",
    "import matplotlib.pyplot as plt\n",
    "\n",
    "from spmmsim.utils.simulate.all_layers_sim import all_layers_sim as sim\n",
    "# from spmmsim.utils.report.report import report as rpt\n",
    "from spmmsim.utils.config.architecture import architecture as arch\n",
    "from spmmsim.utils.config.workload import workload \n",
    "\n",
    "\n",
    "class spmm_simulator:\n",
    "\tdef __init__(self,\n",
    "\t\t\t\tarch_obj='', \n",
    "\t\t\t\tworkload_obj='',\n",
    "\t\t\t\trpt_path='', \n",
    "\t\t\t\trst_path='', \n",
    "\t\t\t\tverbosity=True):\n",
    "\t\tself.output_path = \"./\"\n",
    "\t\tself.verbose = True\n",
    "\n",
    "\t\t# Data structures\n",
    "\t\tself.arch = arch()\n",
    "\t\tself.workload = workload()\n",
    "\n",
    "\t\tself.architecture_file = ''\n",
    "\t\tself.workload_file = ''\n",
    "\t\t\n",
    "\t\tself.set_params(arch_filename=arch_obj, workload_filename=workload_obj)\n",
    "\t\t\n",
    "\tdef set_params(self, arch_filename='', workload_filename='' ):\n",
    "    \t# 1. check if the user provided a valid topology file\n",
    "\t\tif not workload_filename == '':\n",
    "\t\t\tif not os.path.exists(workload_filename):\n",
    "\t\t\t\tprint(\"ERROR: workload file not found\")\n",
    "\t\t\t\tprint(\"Input file:\" + workload_filename)\n",
    "\t\t\t\tprint('Exiting')\n",
    "\t\t\t\texit()\n",
    "\t\t\telse:\n",
    "\t\t\t\tself.workload_file = workload_filename\n",
    "\t\t\t\n",
    "\t\t\tif not os.path.exists(arch_filename):\n",
    "\t\t\t\tprint(\"ERROR: scalesim.scale.py: Config file not found\") \n",
    "\t\t\t\tprint(\"Input file:\" + arch_filename)\n",
    "\t\t\t\tprint('Exiting')\n",
    "\t\t\t\texit()\n",
    "\t\t\telse: \n",
    "\t\t\t\tself.architecture_file = arch_filename\n",
    "\n",
    "        # 2. Parse the architecture\n",
    "\t\tself.arch.read_arch_file(self.architecture_file)\n",
    "\n",
    "        # 3. Parse the workload\n",
    "\t\tself.arch.set_workload_file(self.workload_file)\n",
    "\t\tself.workload.load_arrays(workload=self.workload_file, sparsity_inputs=True)\n",
    "\n",
    "\n",
    "\t# def simulate(self):\n",
    "\t# \tsim.run()\n",
    "\t\n",
    "\t# def report(self):\n",
    "\t# \trpt.run()\n",
    "\t\t\t\n",
    "\t# def plot(self):\n",
    "\t# \tplt()\n",
    "\t"
   ]
  },
  {
   "cell_type": "code",
   "execution_count": 16,
   "metadata": {},
   "outputs": [],
   "source": [
    "arch_path=\"./configs/arch/google.cfg\"\n",
    "workload_path=\"./configs/workload/test.csv\"\t\n",
    "rpt_path=\"./output/rpt\"\t\n",
    "rst_path=\"./output/rst\"\t"
   ]
  },
  {
   "cell_type": "code",
   "execution_count": 18,
   "metadata": {},
   "outputs": [
    {
     "ename": "NoOptionError",
     "evalue": "No option 'arch_name' in section: 'general'",
     "output_type": "error",
     "traceback": [
      "\u001b[0;31m---------------------------------------------------------------------------\u001b[0m",
      "\u001b[0;31mKeyError\u001b[0m                                  Traceback (most recent call last)",
      "File \u001b[0;32m~/Software/anaconda3/envs/scalesim/lib/python3.9/configparser.py:789\u001b[0m, in \u001b[0;36mRawConfigParser.get\u001b[0;34m(self, section, option, raw, vars, fallback)\u001b[0m\n\u001b[1;32m    788\u001b[0m \u001b[38;5;28;01mtry\u001b[39;00m:\n\u001b[0;32m--> 789\u001b[0m     value \u001b[38;5;241m=\u001b[39m \u001b[43md\u001b[49m\u001b[43m[\u001b[49m\u001b[43moption\u001b[49m\u001b[43m]\u001b[49m\n\u001b[1;32m    790\u001b[0m \u001b[38;5;28;01mexcept\u001b[39;00m \u001b[38;5;167;01mKeyError\u001b[39;00m:\n",
      "File \u001b[0;32m~/Software/anaconda3/envs/scalesim/lib/python3.9/collections/__init__.py:941\u001b[0m, in \u001b[0;36mChainMap.__getitem__\u001b[0;34m(self, key)\u001b[0m\n\u001b[1;32m    940\u001b[0m         \u001b[38;5;28;01mpass\u001b[39;00m\n\u001b[0;32m--> 941\u001b[0m \u001b[38;5;28;01mreturn\u001b[39;00m \u001b[38;5;28;43mself\u001b[39;49m\u001b[38;5;241;43m.\u001b[39;49m\u001b[38;5;21;43m__missing__\u001b[39;49m\u001b[43m(\u001b[49m\u001b[43mkey\u001b[49m\u001b[43m)\u001b[49m\n",
      "File \u001b[0;32m~/Software/anaconda3/envs/scalesim/lib/python3.9/collections/__init__.py:933\u001b[0m, in \u001b[0;36mChainMap.__missing__\u001b[0;34m(self, key)\u001b[0m\n\u001b[1;32m    932\u001b[0m \u001b[38;5;28;01mdef\u001b[39;00m \u001b[38;5;21m__missing__\u001b[39m(\u001b[38;5;28mself\u001b[39m, key):\n\u001b[0;32m--> 933\u001b[0m     \u001b[38;5;28;01mraise\u001b[39;00m \u001b[38;5;167;01mKeyError\u001b[39;00m(key)\n",
      "\u001b[0;31mKeyError\u001b[0m: 'arch_name'",
      "\nDuring handling of the above exception, another exception occurred:\n",
      "\u001b[0;31mNoOptionError\u001b[0m                             Traceback (most recent call last)",
      "Cell \u001b[0;32mIn[18], line 1\u001b[0m\n\u001b[0;32m----> 1\u001b[0m s \u001b[38;5;241m=\u001b[39m \u001b[43mspmm_simulator\u001b[49m\u001b[43m(\u001b[49m\u001b[43march_obj\u001b[49m\u001b[38;5;241;43m=\u001b[39;49m\u001b[43march_path\u001b[49m\u001b[43m,\u001b[49m\u001b[43m \u001b[49m\n\u001b[1;32m      2\u001b[0m \u001b[43m\t\t\t\t\t\u001b[49m\u001b[43mworkload_obj\u001b[49m\u001b[38;5;241;43m=\u001b[39;49m\u001b[43mworkload_path\u001b[49m\u001b[43m,\u001b[49m\n\u001b[1;32m      3\u001b[0m \u001b[43m\t\t\t\t\t\u001b[49m\u001b[43mrpt_path\u001b[49m\u001b[38;5;241;43m=\u001b[39;49m\u001b[43mrpt_path\u001b[49m\u001b[43m,\u001b[49m\u001b[43m \u001b[49m\n\u001b[1;32m      4\u001b[0m \u001b[43m\t\t\t\t\t\u001b[49m\u001b[43mrst_path\u001b[49m\u001b[38;5;241;43m=\u001b[39;49m\u001b[43mrst_path\u001b[49m\u001b[43m,\u001b[49m\u001b[43m \u001b[49m\n\u001b[1;32m      5\u001b[0m \u001b[43m\t\t\t\t\t\u001b[49m\u001b[43mverbosity\u001b[49m\u001b[38;5;241;43m=\u001b[39;49m\u001b[38;5;28;43;01mTrue\u001b[39;49;00m\u001b[43m)\u001b[49m\n",
      "Cell \u001b[0;32mIn[17], line 27\u001b[0m, in \u001b[0;36mspmm_simulator.__init__\u001b[0;34m(self, arch_obj, workload_obj, rpt_path, rst_path, verbosity)\u001b[0m\n\u001b[1;32m     24\u001b[0m \u001b[38;5;28mself\u001b[39m\u001b[38;5;241m.\u001b[39marchitecture_file \u001b[38;5;241m=\u001b[39m \u001b[38;5;124m'\u001b[39m\u001b[38;5;124m'\u001b[39m\n\u001b[1;32m     25\u001b[0m \u001b[38;5;28mself\u001b[39m\u001b[38;5;241m.\u001b[39mworkload_file \u001b[38;5;241m=\u001b[39m \u001b[38;5;124m'\u001b[39m\u001b[38;5;124m'\u001b[39m\n\u001b[0;32m---> 27\u001b[0m \u001b[38;5;28;43mself\u001b[39;49m\u001b[38;5;241;43m.\u001b[39;49m\u001b[43mset_params\u001b[49m\u001b[43m(\u001b[49m\u001b[43march_filename\u001b[49m\u001b[38;5;241;43m=\u001b[39;49m\u001b[43march_obj\u001b[49m\u001b[43m,\u001b[49m\u001b[43m \u001b[49m\u001b[43mworkload_filename\u001b[49m\u001b[38;5;241;43m=\u001b[39;49m\u001b[43mworkload_obj\u001b[49m\u001b[43m)\u001b[49m\n",
      "Cell \u001b[0;32mIn[17], line 49\u001b[0m, in \u001b[0;36mspmm_simulator.set_params\u001b[0;34m(self, arch_filename, workload_filename)\u001b[0m\n\u001b[1;32m     46\u001b[0m \t\t\t\t\u001b[38;5;28mself\u001b[39m\u001b[38;5;241m.\u001b[39marchitecture_file \u001b[38;5;241m=\u001b[39m arch_filename\n\u001b[1;32m     48\u001b[0m         \u001b[38;5;66;03m# 2. Parse the architecture\u001b[39;00m\n\u001b[0;32m---> 49\u001b[0m \t\t\u001b[38;5;28;43mself\u001b[39;49m\u001b[38;5;241;43m.\u001b[39;49m\u001b[43march\u001b[49m\u001b[38;5;241;43m.\u001b[39;49m\u001b[43mread_arch_file\u001b[49m\u001b[43m(\u001b[49m\u001b[38;5;28;43mself\u001b[39;49m\u001b[38;5;241;43m.\u001b[39;49m\u001b[43marchitecture_file\u001b[49m\u001b[43m)\u001b[49m\n\u001b[1;32m     51\u001b[0m         \u001b[38;5;66;03m# 3. Parse the workload\u001b[39;00m\n\u001b[1;32m     52\u001b[0m \t\t\u001b[38;5;28mself\u001b[39m\u001b[38;5;241m.\u001b[39march\u001b[38;5;241m.\u001b[39mset_workload_file(\u001b[38;5;28mself\u001b[39m\u001b[38;5;241m.\u001b[39mworkload_file)\n",
      "File \u001b[0;32m~/Code/KVCompass/scalesim/SpMMsim/spmmsim/utils/config/architecture.py:36\u001b[0m, in \u001b[0;36marchitecture.read_arch_file\u001b[0;34m(self, arch_file_path)\u001b[0m\n\u001b[1;32m     34\u001b[0m \u001b[38;5;66;03m# 读取general内容\u001b[39;00m\n\u001b[1;32m     35\u001b[0m section \u001b[38;5;241m=\u001b[39m \u001b[38;5;124m'\u001b[39m\u001b[38;5;124mgeneral\u001b[39m\u001b[38;5;124m'\u001b[39m\n\u001b[0;32m---> 36\u001b[0m \u001b[38;5;28mself\u001b[39m\u001b[38;5;241m.\u001b[39mrun_name \u001b[38;5;241m=\u001b[39m \u001b[43mconfig\u001b[49m\u001b[38;5;241;43m.\u001b[39;49m\u001b[43mget\u001b[49m\u001b[43m(\u001b[49m\u001b[43msection\u001b[49m\u001b[43m,\u001b[49m\u001b[43m \u001b[49m\u001b[38;5;124;43m'\u001b[39;49m\u001b[38;5;124;43march_name\u001b[39;49m\u001b[38;5;124;43m'\u001b[39;49m\u001b[43m)\u001b[49m\n\u001b[1;32m     38\u001b[0m \u001b[38;5;66;03m# 读取run_presets内容\u001b[39;00m\n\u001b[1;32m     39\u001b[0m section \u001b[38;5;241m=\u001b[39m \u001b[38;5;124m'\u001b[39m\u001b[38;5;124mpresets\u001b[39m\u001b[38;5;124m'\u001b[39m\n",
      "File \u001b[0;32m~/Software/anaconda3/envs/scalesim/lib/python3.9/configparser.py:792\u001b[0m, in \u001b[0;36mRawConfigParser.get\u001b[0;34m(self, section, option, raw, vars, fallback)\u001b[0m\n\u001b[1;32m    790\u001b[0m \u001b[38;5;28;01mexcept\u001b[39;00m \u001b[38;5;167;01mKeyError\u001b[39;00m:\n\u001b[1;32m    791\u001b[0m     \u001b[38;5;28;01mif\u001b[39;00m fallback \u001b[38;5;129;01mis\u001b[39;00m _UNSET:\n\u001b[0;32m--> 792\u001b[0m         \u001b[38;5;28;01mraise\u001b[39;00m NoOptionError(option, section)\n\u001b[1;32m    793\u001b[0m     \u001b[38;5;28;01melse\u001b[39;00m:\n\u001b[1;32m    794\u001b[0m         \u001b[38;5;28;01mreturn\u001b[39;00m fallback\n",
      "\u001b[0;31mNoOptionError\u001b[0m: No option 'arch_name' in section: 'general'"
     ]
    }
   ],
   "source": [
    "s = spmm_simulator(arch_obj=arch_path, \n",
    "\t\t\t\t\tworkload_obj=workload_path,\n",
    "\t\t\t\t\trpt_path=rpt_path, \n",
    "\t\t\t\t\trst_path=rst_path, \n",
    "\t\t\t\t\tverbosity=True)"
   ]
  },
  {
   "cell_type": "code",
   "execution_count": null,
   "metadata": {},
   "outputs": [],
   "source": [
    "s.sim()"
   ]
  },
  {
   "cell_type": "code",
   "execution_count": null,
   "metadata": {},
   "outputs": [],
   "source": [
    "# s.rpt()"
   ]
  },
  {
   "cell_type": "code",
   "execution_count": null,
   "metadata": {},
   "outputs": [],
   "source": [
    "# s.plt()"
   ]
  }
 ],
 "metadata": {
  "kernelspec": {
   "display_name": "scalesim",
   "language": "python",
   "name": "python3"
  },
  "language_info": {
   "codemirror_mode": {
    "name": "ipython",
    "version": 3
   },
   "file_extension": ".py",
   "mimetype": "text/x-python",
   "name": "python",
   "nbconvert_exporter": "python",
   "pygments_lexer": "ipython3",
   "version": "3.9.19"
  }
 },
 "nbformat": 4,
 "nbformat_minor": 2
}
