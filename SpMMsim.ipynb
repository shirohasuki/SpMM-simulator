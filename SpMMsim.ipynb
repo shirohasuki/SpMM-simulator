{
 "cells": [
  {
   "cell_type": "code",
   "execution_count": 1,
   "metadata": {},
   "outputs": [],
   "source": [
    "import os\n",
    "import matplotlib.pyplot as plt\n",
    "\n",
    "from spmmsim.utils.simulate.all_layers_sim import all_layers_sim as sim\n",
    "# from spmmsim.utils.report.report import report as rpt\n",
    "from spmmsim.utils.config.architecture import architecture as arch\n",
    "from spmmsim.utils.config.workload import workload \n",
    "\n",
    "\n",
    "class spmm_simulator:\n",
    "\tdef __init__(self,\n",
    "\t\t\t\tarch_obj='', \n",
    "\t\t\t\tworkload_obj='',\n",
    "\t\t\t\trpt_path='', \n",
    "\t\t\t\trst_path='', \n",
    "\t\t\t\tverbosity=True):\n",
    "\t\tself.output_path = \"./\"\n",
    "\t\tself.verbose = True\n",
    "\n",
    "\t\t# Data structures\n",
    "\t\tself.arch = arch()\n",
    "\t\tself.workload = workload()\n",
    "\n",
    "\t\tself.architecture_file = ''\n",
    "\t\tself.workload_file = ''\n",
    "\t\t\n",
    "\t\tself.set_params(arch_filename=arch_obj, workload_filename=workload_obj)\n",
    "\t\t\n",
    "\tdef set_params(self, arch_filename='', workload_filename='' ):\n",
    "    \t# 1. check if the user provided a valid workload file\n",
    "\t\tif not workload_filename == '':\n",
    "\t\t\tif not os.path.exists(workload_filename):\n",
    "\t\t\t\tprint(\"ERROR: workload file not found\")\n",
    "\t\t\t\tprint(\"Input file:\" + workload_filename)\n",
    "\t\t\t\tprint('Exiting')\n",
    "\t\t\t\texit()\n",
    "\t\t\telse:\n",
    "\t\t\t\tself.workload_file = workload_filename\n",
    "\t\t\t\n",
    "\t\t\tif not os.path.exists(arch_filename):\n",
    "\t\t\t\tprint(\"ERROR: scalesim.scale.py: Config file not found\") \n",
    "\t\t\t\tprint(\"Input file:\" + arch_filename)\n",
    "\t\t\t\tprint('Exiting')\n",
    "\t\t\t\texit()\n",
    "\t\t\telse: \n",
    "\t\t\t\tself.architecture_file = arch_filename\n",
    "\n",
    "        # 2. Parse the architecture\n",
    "\t\tself.arch.read_arch_file(self.architecture_file)\n",
    "\n",
    "        # 3. Parse the workload\n",
    "\t\tself.arch.set_workload_file(self.workload_file)\n",
    "\t\tself.workload.load_arrays(workload=self.workload_file, sparsity_inputs=True)\n",
    "\n",
    "\n",
    "\tdef simulate(self):\n",
    "\t\tsim(rst_path, rpt_path)\n",
    "\t\tsim.run()\n",
    "\t\n",
    "\t# def report(self):\n",
    "\t# \trpt.run()\n",
    "\t\t\t\n",
    "\t# def plot(self):\n",
    "\t# \tplt()\n",
    "\t"
   ]
  },
  {
   "cell_type": "code",
   "execution_count": 2,
   "metadata": {},
   "outputs": [],
   "source": [
    "arch_path=\"./configs/arch/eyeriss.cfg\"\n",
    "workload_path=\"./configs/workload/test.csv\"\t\n",
    "rpt_path=\"./output/rpt\"\t\n",
    "rst_path=\"./output/rst\"\t"
   ]
  },
  {
   "cell_type": "code",
   "execution_count": 3,
   "metadata": {},
   "outputs": [
    {
     "name": "stdout",
     "output_type": "stream",
     "text": [
      "Load SparseMM from./configs/workload/test.csv\n"
     ]
    }
   ],
   "source": [
    "s = spmm_simulator(arch_obj=arch_path, \n",
    "                   workload_obj=workload_path, \n",
    "                   rpt_path=rpt_path, \n",
    "                   rst_path=rst_path, \n",
    "                   verbosity=True)"
   ]
  },
  {
   "cell_type": "code",
   "execution_count": 4,
   "metadata": {},
   "outputs": [],
   "source": [
    "s.simulate()"
   ]
  },
  {
   "cell_type": "code",
   "execution_count": 5,
   "metadata": {},
   "outputs": [],
   "source": [
    "# s.report()"
   ]
  },
  {
   "cell_type": "code",
   "execution_count": 6,
   "metadata": {},
   "outputs": [],
   "source": [
    "# s.plot()"
   ]
  }
 ],
 "metadata": {
  "kernelspec": {
   "display_name": "scalesim",
   "language": "python",
   "name": "python3"
  },
  "language_info": {
   "codemirror_mode": {
    "name": "ipython",
    "version": 3
   },
   "file_extension": ".py",
   "mimetype": "text/x-python",
   "name": "python",
   "nbconvert_exporter": "python",
   "pygments_lexer": "ipython3",
   "version": "3.9.19"
  }
 },
 "nbformat": 4,
 "nbformat_minor": 2
}
