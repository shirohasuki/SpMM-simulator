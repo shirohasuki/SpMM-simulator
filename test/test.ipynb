{
 "cells": [
  {
   "cell_type": "code",
   "execution_count": 8,
   "metadata": {},
   "outputs": [],
   "source": [
    "import sys\n",
    "sys.path.append(\"..\")\n",
    "\n",
    "from scalesim.scale_sim import scalesim"
   ]
  },
  {
   "cell_type": "code",
   "execution_count": 9,
   "metadata": {},
   "outputs": [],
   "source": [
    "s = scalesim(save_disk_space=True, verbose=True,\n",
    "                 config=\"./configs/google.cfg\",\n",
    "                 topology=\"./topologies/test.csv\",\n",
    "                 input_type_gemm=True\n",
    "                 )\n"
   ]
  },
  {
   "cell_type": "code",
   "execution_count": 10,
   "metadata": {},
   "outputs": [
    {
     "name": "stdout",
     "output_type": "stream",
     "text": [
      "====================================================\n",
      "******************* SCALE SIM **********************\n",
      "====================================================\n",
      "Array Size: \t256x256\n",
      "SRAM IFMAP (kB): \t6144\n",
      "SRAM Filter (kB): \t6144\n",
      "SRAM OFMAP (kB): \t2048\n",
      "Dataflow: \tWeight Stationary\n",
      "CSV file path: \t./topologies/test.csv\n",
      "Working in ESTIMATE BANDWIDTH mode.\n",
      "====================================================\n",
      "\n",
      "Running Layer 0\n"
     ]
    },
    {
     "name": "stderr",
     "output_type": "stream",
     "text": [
      "100%|██████████| 7160/7160 [00:01<00:00, 6663.74it/s]\n"
     ]
    },
    {
     "name": "stdout",
     "output_type": "stream",
     "text": [
      "Compute cycles: 7159\n",
      "Stall cycles: 0\n",
      "Overall utilization: 14.30%\n",
      "Mapping efficiency: 25.00%\n",
      "Average IFMAP DRAM BW: 5.208 words/cycle\n",
      "Average Filter DRAM BW: 5.208 words/cycle\n",
      "Average OFMAP DRAM BW: 256.000 words/cycle\n",
      "\n",
      "Running Layer 1\n"
     ]
    },
    {
     "name": "stderr",
     "output_type": "stream",
     "text": [
      "100%|██████████| 3580/3580 [00:00<00:00, 6770.88it/s]\n"
     ]
    },
    {
     "name": "stdout",
     "output_type": "stream",
     "text": [
      "Compute cycles: 3579\n",
      "Stall cycles: 0\n",
      "Overall utilization: 14.31%\n",
      "Mapping efficiency: 25.00%\n",
      "Average IFMAP DRAM BW: 5.208 words/cycle\n",
      "Average Filter DRAM BW: 5.208 words/cycle\n",
      "Average OFMAP DRAM BW: 256.000 words/cycle\n",
      "\n",
      "Running Layer 2\n"
     ]
    },
    {
     "name": "stderr",
     "output_type": "stream",
     "text": [
      "100%|██████████| 1790/1790 [00:00<00:00, 6708.51it/s]\n"
     ]
    },
    {
     "name": "stdout",
     "output_type": "stream",
     "text": [
      "Compute cycles: 1789\n",
      "Stall cycles: 0\n",
      "Overall utilization: 14.31%\n",
      "Mapping efficiency: 25.00%\n",
      "Average IFMAP DRAM BW: 5.208 words/cycle\n",
      "Average Filter DRAM BW: 2.604 words/cycle\n",
      "Average OFMAP DRAM BW: 256.000 words/cycle\n",
      "\n",
      "Running Layer 3\n"
     ]
    },
    {
     "name": "stderr",
     "output_type": "stream",
     "text": [
      "100%|██████████| 7160/7160 [00:01<00:00, 6727.77it/s]\n"
     ]
    },
    {
     "name": "stdout",
     "output_type": "stream",
     "text": [
      "Compute cycles: 7159\n",
      "Stall cycles: 0\n",
      "Overall utilization: 14.30%\n",
      "Mapping efficiency: 25.00%\n",
      "Average IFMAP DRAM BW: 5.208 words/cycle\n",
      "Average Filter DRAM BW: 5.208 words/cycle\n",
      "Average OFMAP DRAM BW: 256.000 words/cycle\n",
      "\n",
      "Running Layer 4\n"
     ]
    },
    {
     "name": "stderr",
     "output_type": "stream",
     "text": [
      "100%|██████████| 5112/5112 [00:00<00:00, 8141.74it/s]\n"
     ]
    },
    {
     "name": "stdout",
     "output_type": "stream",
     "text": [
      "Compute cycles: 5111\n",
      "Stall cycles: 0\n",
      "Overall utilization: 10.02%\n",
      "Mapping efficiency: 25.00%\n",
      "Average IFMAP DRAM BW: 5.208 words/cycle\n",
      "Average Filter DRAM BW: 5.208 words/cycle\n",
      "Average OFMAP DRAM BW: 256.000 words/cycle\n",
      "\n",
      "Running Layer 5\n"
     ]
    },
    {
     "name": "stderr",
     "output_type": "stream",
     "text": [
      "100%|██████████| 4088/4088 [00:00<00:00, 10008.33it/s]\n"
     ]
    },
    {
     "name": "stdout",
     "output_type": "stream",
     "text": [
      "Compute cycles: 4087\n",
      "Stall cycles: 0\n",
      "Overall utilization: 6.26%\n",
      "Mapping efficiency: 25.00%\n",
      "Average IFMAP DRAM BW: 2.604 words/cycle\n",
      "Average Filter DRAM BW: 5.208 words/cycle\n",
      "Average OFMAP DRAM BW: 256.000 words/cycle\n",
      "\n",
      "Running Layer 6\n"
     ]
    },
    {
     "name": "stderr",
     "output_type": "stream",
     "text": [
      "100%|██████████| 3576/3576 [00:00<00:00, 12274.15it/s]\n"
     ]
    },
    {
     "name": "stdout",
     "output_type": "stream",
     "text": [
      "Compute cycles: 3575\n",
      "Stall cycles: 0\n",
      "Overall utilization: 3.58%\n",
      "Mapping efficiency: 25.00%\n",
      "Average IFMAP DRAM BW: 1.302 words/cycle\n",
      "Average Filter DRAM BW: 5.208 words/cycle\n",
      "Average OFMAP DRAM BW: 256.000 words/cycle\n",
      "\n",
      "Running Layer 7\n"
     ]
    },
    {
     "name": "stderr",
     "output_type": "stream",
     "text": [
      "100%|██████████| 7160/7160 [00:01<00:00, 6007.08it/s]\n"
     ]
    },
    {
     "name": "stdout",
     "output_type": "stream",
     "text": [
      "Compute cycles: 7159\n",
      "Stall cycles: 0\n",
      "Overall utilization: 28.61%\n",
      "Mapping efficiency: 50.00%\n",
      "Average IFMAP DRAM BW: 6.944 words/cycle\n",
      "Average Filter DRAM BW: 6.944 words/cycle\n",
      "Average OFMAP DRAM BW: 256.000 words/cycle\n",
      "\n",
      "Running Layer 8\n"
     ]
    },
    {
     "name": "stderr",
     "output_type": "stream",
     "text": [
      "100%|██████████| 7160/7160 [00:01<00:00, 6598.42it/s]\n"
     ]
    },
    {
     "name": "stdout",
     "output_type": "stream",
     "text": [
      "Compute cycles: 7159\n",
      "Stall cycles: 0\n",
      "Overall utilization: 14.30%\n",
      "Mapping efficiency: 25.00%\n",
      "Average IFMAP DRAM BW: 5.208 words/cycle\n",
      "Average Filter DRAM BW: 5.208 words/cycle\n",
      "Average OFMAP DRAM BW: 256.000 words/cycle\n",
      "\n",
      "Running Layer 9\n"
     ]
    },
    {
     "name": "stderr",
     "output_type": "stream",
     "text": [
      "100%|██████████| 7160/7160 [00:00<00:00, 7268.14it/s]\n"
     ]
    },
    {
     "name": "stdout",
     "output_type": "stream",
     "text": [
      "Compute cycles: 7159\n",
      "Stall cycles: 0\n",
      "Overall utilization: 7.15%\n",
      "Mapping efficiency: 12.50%\n",
      "Average IFMAP DRAM BW: 5.208 words/cycle\n",
      "Average Filter DRAM BW: 5.208 words/cycle\n",
      "Average OFMAP DRAM BW: 256.000 words/cycle\n",
      "\n",
      "Running Layer 10\n"
     ]
    },
    {
     "name": "stderr",
     "output_type": "stream",
     "text": [
      "100%|██████████| 7160/7160 [00:00<00:00, 7646.30it/s] \n"
     ]
    },
    {
     "name": "stdout",
     "output_type": "stream",
     "text": [
      "Compute cycles: 7159\n",
      "Stall cycles: 0\n",
      "Overall utilization: 0.22%\n",
      "Mapping efficiency: 0.39%\n",
      "Average IFMAP DRAM BW: 0.163 words/cycle\n",
      "Average Filter DRAM BW: 0.163 words/cycle\n",
      "Average OFMAP DRAM BW: 256.000 words/cycle\n",
      "\n",
      "Running Layer 11\n"
     ]
    },
    {
     "name": "stderr",
     "output_type": "stream",
     "text": [
      "100%|██████████| 2556/2556 [00:00<00:00, 9185.13it/s] \n"
     ]
    },
    {
     "name": "stdout",
     "output_type": "stream",
     "text": [
      "Compute cycles: 2555\n",
      "Stall cycles: 0\n",
      "Overall utilization: 0.16%\n",
      "Mapping efficiency: 0.39%\n",
      "Average IFMAP DRAM BW: 0.081 words/cycle\n",
      "Average Filter DRAM BW: 0.081 words/cycle\n",
      "Average OFMAP DRAM BW: 256.000 words/cycle\n",
      "\n",
      "Running Layer 12\n"
     ]
    },
    {
     "name": "stderr",
     "output_type": "stream",
     "text": [
      "100%|██████████| 1022/1022 [00:00<00:00, 12229.02it/s]"
     ]
    },
    {
     "name": "stdout",
     "output_type": "stream",
     "text": [
      "Compute cycles: 1021\n",
      "Stall cycles: 0\n",
      "Overall utilization: 0.10%\n",
      "Mapping efficiency: 0.39%\n",
      "Average IFMAP DRAM BW: 0.041 words/cycle\n",
      "Average Filter DRAM BW: 0.041 words/cycle\n",
      "Average OFMAP DRAM BW: 256.000 words/cycle\n",
      "************ SCALE SIM Run Complete ****************\n"
     ]
    },
    {
     "name": "stderr",
     "output_type": "stream",
     "text": [
      "\n"
     ]
    }
   ],
   "source": [
    "s.run_scale(top_path=\"./log\")"
   ]
  }
 ],
 "metadata": {
  "kernelspec": {
   "display_name": "llmcompass",
   "language": "python",
   "name": "python3"
  },
  "language_info": {
   "codemirror_mode": {
    "name": "ipython",
    "version": 3
   },
   "file_extension": ".py",
   "mimetype": "text/x-python",
   "name": "python",
   "nbconvert_exporter": "python",
   "pygments_lexer": "ipython3",
   "version": "3.9.19"
  }
 },
 "nbformat": 4,
 "nbformat_minor": 2
}
